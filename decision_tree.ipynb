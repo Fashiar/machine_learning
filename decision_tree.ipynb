{
 "cells": [
  {
   "cell_type": "markdown",
   "metadata": {},
   "source": [
    "# Writing decision tree classifier from scratch\n",
    "### Import Libraries"
   ]
  },
  {
   "cell_type": "code",
   "execution_count": 1,
   "metadata": {},
   "outputs": [],
   "source": [
    "import numpy as np\n",
    "import time"
   ]
  },
  {
   "cell_type": "markdown",
   "metadata": {},
   "source": [
    "### Create the node class\n",
    "Each node contains attribute and threshold and their left and right sides "
   ]
  },
  {
   "cell_type": "code",
   "execution_count": 2,
   "metadata": {},
   "outputs": [],
   "source": [
    "class DecisionTreeNode(object):\n",
    "    # Constructor\n",
    "    def __init__(self, att, thr, left, right):  \n",
    "        self.attribute = att\n",
    "        self.threshold = thr\n",
    "        # left and right are either binary classifications or references to \n",
    "        # decision tree nodes\n",
    "        self.left = left     \n",
    "        self.right = right   \n",
    "\n",
    "    def print_tree(self,indent=''):\n",
    "        if self.left  in [0,1]:\n",
    "            print(indent+'       ','class=',self.left)\n",
    "        else:\n",
    "            self.left.print_tree(indent+'    ')\n",
    "        print(indent,'if x['+str(self.attribute)+'] <=',self.threshold)\n",
    "        if self.right  in [0,1]:\n",
    "            print(indent+'       ','class=',self.right)\n",
    "        else:\n",
    "            self.right.print_tree(indent+'    ')"
   ]
  },
  {
   "cell_type": "markdown",
   "metadata": {},
   "source": [
    "### Create the class for decision tree classifier\n",
    "\n",
    "Algorithm ID3(x,y):\n",
    "    1. If termination condition applies return leaf with most common class in y \n",
    "    2. Determine all the thresholds \n",
    "    2. Determine the best attribute and threshold (a,t) with the highest information gain (entropy)\n",
    "    3. Split the data based on the best attribute and threshold from 2\n",
    "        a. Let (xl, yl) be the training examples for which x(a)<=t\n",
    "        b. Let (xr, yr) be the training examples for which x(a)>t\n",
    "    4. Recursivley return decision tree node where attribute = a, threshold = t, leftchild = ID3(xl,yl), rightchild = ID3 (xr,yr)"
   ]
  },
  {
   "cell_type": "code",
   "execution_count": 3,
   "metadata": {},
   "outputs": [],
   "source": [
    "class DecisionTreeClassifier(object):\n",
    "    # constructor\n",
    "    def __init__(self, max_depth=10, min_samples_split=10, accuracy=1):\n",
    "        self.max_depth = max_depth\n",
    "        self.min_samples_split = min_samples_split\n",
    "        self.accuracy = accuracy\n",
    "        \n",
    "    def fit(self, data, labels):\n",
    "        self.root = self._build_tree(data, labels, depth=0)\n",
    "        \n",
    "    def predict(self, test_data):\n",
    "        pred = np.zeros(len(test_data), dtype=int)\n",
    "        for i in range(len(test_data)):\n",
    "            pred[i] = self._predict_example(test_data[i], self.root)\n",
    "        return pred\n",
    "        \n",
    "    def _build_tree(self, data, labels, depth):\n",
    "        # check the base case (termination condition)\n",
    "        mean_val = np.mean(labels)\n",
    "        if depth==self.max_depth or len(data)<= self.min_samples_split or max(\n",
    "                [mean_val, 1-mean_val])>= self.accuracy:\n",
    "            return int(round(mean_val))\n",
    "        else:\n",
    "            depth += 1\n",
    "            #all_thrs = np.mean(data, axis=0) # uncomment this line only to use mean as therashold\n",
    "            all_thrs = self._get_all_thrs(data) #comment this line only to use mean as threshold\n",
    "            # get the best attribute and threshold wth the highest gain\n",
    "            best_split_col, best_split_val = self._get_best_split(data, labels, all_thrs)\n",
    "            less, more = self._split_data(data, best_split_col, best_split_val)\n",
    "            #recursivly build the tree\n",
    "            left = self._build_tree(data[less], labels[less], depth)\n",
    "            right = self._build_tree(data[more], labels[more], depth)\n",
    "            \n",
    "\n",
    "        return DecisionTreeNode(best_split_col, best_split_val, left, right)\n",
    "    \n",
    "    def _get_all_thrs(self, data):\n",
    "        all_thrs = {}\n",
    "        for index in range(data.shape[1]):\n",
    "            all_thrs[index] = []\n",
    "            unique_val = np.unique(data[:,index])\n",
    "            \n",
    "            for idx in range(len(unique_val)):\n",
    "                if idx != 0:\n",
    "                    current_val = unique_val[idx]\n",
    "                    previous_val = unique_val[idx - 1]\n",
    "                    thr = (current_val + previous_val)/2\n",
    "                    all_thrs[index].append(thr)\n",
    "        return all_thrs\n",
    "        \n",
    "    # Find the best cloumn to classify and the best threshold value\n",
    "    def _get_best_split(self, data, labels, all_thrs):\n",
    "        best_entropy = 999\n",
    "        for col_index in range(data.shape[1]):\n",
    "            for thr in all_thrs[col_index]: # comment this line only to use mean as threshold\n",
    "            #thr = all_thrs[col_index] # uncomment this line and correct the indentation only to use mean as threshold\n",
    "                less, more = self._split_data(data, col_index, thr)\n",
    "                ent = self._entropy(labels[less], labels[more])\n",
    "                \n",
    "                if ent < best_entropy:\n",
    "                    best_entropy = ent\n",
    "                    best_split_col = col_index\n",
    "                    best_split_val = thr\n",
    "        return best_split_col, best_split_val\n",
    "    \n",
    "    def _split_data(self, data, split_col, thr):\n",
    "        less = data[:,split_col] <= thr\n",
    "        more = data[:, split_col] > thr\n",
    "        return less, more\n",
    "\n",
    "    # calculate entropy\n",
    "    def _entropy(self, l, m):\n",
    "        ent = 0\n",
    "        for p in [l, m]:\n",
    "            if len(p) > 0:\n",
    "                pp = sum(p)/len(p)\n",
    "                pn = 1 - pp\n",
    "                if pp < 1 and pp > 0:\n",
    "                    ent -= len(p)*(pp*np.log2(pp) + pn*np.log2(pn))\n",
    "        ent = ent / (len(l) + len(m))\n",
    "        return ent\n",
    "        \n",
    "    def _predict_example(self, example, tree):\n",
    "        col_id = tree.attribute\n",
    "        val = tree.threshold\n",
    "    \n",
    "        if example[col_id] <= val:\n",
    "            answer = tree.left\n",
    "        else:\n",
    "            answer = tree.right\n",
    "            \n",
    "        if not isinstance(answer, DecisionTreeNode):\n",
    "            return answer\n",
    "        else:\n",
    "            remaining_tree = answer\n",
    "            return self._predict_example(example, remaining_tree)\n",
    "     \n",
    "    def display(self):\n",
    "        print(\"model\")\n",
    "        self.root.print_tree()\n",
    "        \n",
    "    def confusion_matrix(self, pred, labels):\n",
    "        cm = np.zeros((np.max(pred)+1, np.max(pred)+1))\n",
    "        for i in range(len(pred)):\n",
    "            cm[pred[i]][labels[i]] += 1\n",
    "        return cm"
   ]
  },
  {
   "cell_type": "markdown",
   "metadata": {},
   "source": [
    "### Load and prepare data"
   ]
  },
  {
   "cell_type": "code",
   "execution_count": 4,
   "metadata": {},
   "outputs": [],
   "source": [
    "x = []\n",
    "y = []\n",
    "infile = open(\"gamma_ray.txt\",\"r\")\n",
    "for line in infile:\n",
    "    y.append(int(line[-2:-1] =='g'))\n",
    "    x.append(np.fromstring(line[:-2], dtype=float,sep=','))\n",
    "infile.close()\n",
    "    \n",
    "x = np.array(x).astype(np.float32)\n",
    "y = np.array(y)"
   ]
  },
  {
   "cell_type": "markdown",
   "metadata": {},
   "source": [
    "### Split data into training and testing: 80% for trianing and 20% for testing"
   ]
  },
  {
   "cell_type": "code",
   "execution_count": 5,
   "metadata": {},
   "outputs": [],
   "source": [
    "ind = np.random.permutation(len(y))\n",
    "split_ind = int(len(y)*0.8) # 80% trianing data\n",
    "x_train = x[ind[:split_ind]]\n",
    "x_test = x[ind[split_ind:]]\n",
    "y_train = y[ind[:split_ind]]\n",
    "y_test = y[ind[split_ind:]]"
   ]
  },
  {
   "cell_type": "markdown",
   "metadata": {},
   "source": [
    "### Take a toy dataset to run the program with minimum time "
   ]
  },
  {
   "cell_type": "code",
   "execution_count": 6,
   "metadata": {},
   "outputs": [],
   "source": [
    "# Only 5000 data for training and 500 for testing\n",
    "# Run this cell, only if you want to see the reuslt in quick otherwise skip this cell\n",
    "x_train = x_train[:5000]\n",
    "x_test = x_test[:500]\n",
    "y_train = y_train[:5000]\n",
    "y_test = y_test[:500]"
   ]
  },
  {
   "cell_type": "markdown",
   "metadata": {},
   "source": [
    "### Fit the model"
   ]
  },
  {
   "cell_type": "code",
   "execution_count": 7,
   "metadata": {},
   "outputs": [
    {
     "name": "stdout",
     "output_type": "stream",
     "text": [
      "Elapsed_time training  68.269035 \n"
     ]
    }
   ],
   "source": [
    "model = DecisionTreeClassifier(max_depth=5) # you can change the \"max_dept\" parameter\n",
    "start = time.time()\n",
    "model.fit(x_train, y_train)\n",
    "elapsed_time = time.time()-start\n",
    "print('Elapsed_time training  {0:.6f} '.format(elapsed_time)) "
   ]
  },
  {
   "cell_type": "markdown",
   "metadata": {},
   "source": [
    "### Display the decision tree"
   ]
  },
  {
   "cell_type": "code",
   "execution_count": 8,
   "metadata": {},
   "outputs": [
    {
     "name": "stdout",
     "output_type": "stream",
     "text": [
      "model\n",
      "                        class= 1\n",
      "                 if x[1] <= 37.87635040283203\n",
      "                        class= 0\n",
      "             if x[6] <= -47.939697265625\n",
      "                        class= 1\n",
      "                 if x[2] <= 3.3074498176574707\n",
      "                        class= 1\n",
      "         if x[4] <= 0.3012999892234802\n",
      "                        class= 0\n",
      "                 if x[1] <= 5.980299949645996\n",
      "                        class= 1\n",
      "             if x[2] <= 2.5486998558044434\n",
      "                        class= 1\n",
      "                 if x[3] <= 0.5571500062942505\n",
      "                        class= 0\n",
      "     if x[0] <= 109.766845703125\n",
      "                    class= 1\n",
      "             if x[1] <= 23.3114013671875\n",
      "                    class= 0\n",
      "         if x[6] <= -84.53669738769531\n",
      "                        class= 1\n",
      "                 if x[0] <= 140.51300048828125\n",
      "                        class= 0\n",
      "             if x[8] <= 7.210299968719482\n",
      "                        class= 0\n",
      "                 if x[5] <= 99.64739990234375\n",
      "                        class= 1\n",
      " if x[8] <= 18.45064926147461\n",
      "                        class= 1\n",
      "                 if x[1] <= 0.003599999938160181\n",
      "                        class= 0\n",
      "             if x[1] <= 6.212800025939941\n",
      "                        class= 0\n",
      "                 if x[0] <= 11.402050018310547\n",
      "                        class= 1\n",
      "         if x[2] <= 2.327849864959717\n",
      "                        class= 0\n",
      "                 if x[2] <= 2.417249917984009\n",
      "                        class= 0\n",
      "             if x[1] <= 9.55150032043457\n",
      "                        class= 1\n",
      "                 if x[8] <= 40.00769805908203\n",
      "                        class= 0\n",
      "     if x[0] <= 47.393898010253906\n",
      "                    class= 0\n",
      "             if x[1] <= 12.63344955444336\n",
      "                        class= 0\n",
      "                 if x[8] <= 24.415000915527344\n",
      "                        class= 0\n",
      "         if x[0] <= 96.37635040283203\n",
      "                        class= 0\n",
      "                 if x[1] <= 21.367849349975586\n",
      "                        class= 0\n",
      "             if x[2] <= 2.9282000064849854\n",
      "                    class= 0\n"
     ]
    }
   ],
   "source": [
    "model.display()"
   ]
  },
  {
   "cell_type": "markdown",
   "metadata": {},
   "source": [
    "### Training accuracy and confusion matrix"
   ]
  },
  {
   "cell_type": "code",
   "execution_count": 9,
   "metadata": {},
   "outputs": [
    {
     "name": "stdout",
     "output_type": "stream",
     "text": [
      "Confusion matrix for training:\n",
      " [[1304.  344.]\n",
      " [ 469. 2883.]]\n",
      "Train accuracy:  0.8374\n"
     ]
    }
   ],
   "source": [
    "train_pred = model.predict(x_train)\n",
    "train_acc = np.sum(train_pred == y_train)/len(train_pred)\n",
    "print(\"Confusion matrix for training:\\n\", model.confusion_matrix(train_pred, y_train))\n",
    "print('Train accuracy: ', train_acc)"
   ]
  },
  {
   "cell_type": "markdown",
   "metadata": {},
   "source": [
    "### Testing accuracy and confusion matrix"
   ]
  },
  {
   "cell_type": "code",
   "execution_count": 10,
   "metadata": {},
   "outputs": [
    {
     "name": "stdout",
     "output_type": "stream",
     "text": [
      "Elapsed_time testing 0.004965\n",
      "\n",
      "Confusion matrix for testing:\n",
      " [[146.  31.]\n",
      " [ 38. 285.]]\n",
      "\n",
      "Test accuracy:  0.862\n"
     ]
    }
   ],
   "source": [
    "start = time.time()\n",
    "test_pred = model.predict(x_test)\n",
    "elapsed_time = time.time() - start\n",
    "print('Elapsed_time testing {0:.6f}'.format(elapsed_time))\n",
    "\n",
    "test_acc = np.sum(test_pred == y_test)/len(test_pred)\n",
    "print(\"\\nConfusion matrix for testing:\\n\", model.confusion_matrix(test_pred, y_test))\n",
    "print('\\nTest accuracy: ', test_acc)"
   ]
  },
  {
   "cell_type": "markdown",
   "metadata": {},
   "source": [
    "### Display 10 random prediction result"
   ]
  },
  {
   "cell_type": "code",
   "execution_count": 16,
   "metadata": {},
   "outputs": [
    {
     "name": "stdout",
     "output_type": "stream",
     "text": [
      "         x[0]       x[1]    x[2]    x[3]    x[4]        x[5]        x[6]       x[7]       x[8]        x[9]  labels  prediction\n",
      "0   97.038300  14.246600  2.3936  0.4566  0.2404 -120.310997   55.750801   7.294300  65.683998  262.899994       0           0\n",
      "1   40.299900  26.432301  2.9165  0.3261  0.1921   26.835400   34.620399  26.541401  55.900002  159.427994       0           0\n",
      "2   28.153400  15.252600  2.6739  0.4492  0.2405   29.793800   19.561300 -10.605700  31.651300  224.942001       1           1\n",
      "3   12.670100  11.742800  2.0394  0.7123  0.3699   15.475700   -7.206700  11.194000  82.248802  189.339996       1           1\n",
      "4   43.286800  12.652200  2.7271  0.2868  0.1453  -55.563202   15.108200  -6.123800  26.625601  168.076996       0           1\n",
      "5  272.062988  20.124201  2.5563  0.4556  0.2319 -349.756989  203.863007 -13.878400  62.350399  184.059998       1           0\n",
      "6   19.730801  18.574499  2.3314  0.4709  0.2401   12.069400  -18.302601 -12.701200   8.753000  141.173996       1           1\n",
      "7   78.903900  26.612900  3.4931  0.1497  0.0750   65.580704   66.145897  13.738700   9.896400  197.397995       1           1\n",
      "8   61.169300   3.886200  2.8015  0.4108  0.2313   10.689000   31.129101   9.090300  49.815701  151.883698       0           0\n",
      "9  239.061493  74.374001  3.5694  0.1917  0.1030 -107.413597 -229.130203  80.518204  58.378899  277.915405       0           0\n"
     ]
    }
   ],
   "source": [
    "import pandas as pd\n",
    "idx = np.random.randint(0, 500, 10)\n",
    "dict = {\"x[0]\": x_test[idx,0], \"x[1]\": x_test[idx,1], \"x[2]\": x_test[idx,2], \"x[3]\": x_test[idx,3], \"x[4]\": x_test[idx,4],\n",
    "        \"x[5]\": x_test[idx,5], \"x[6]\": x_test[idx,6], \"x[7]\": x_test[idx,7], \"x[8]\": x_test[idx,8], \"x[9]\": x_test[idx,9],\n",
    "        \"labels\": y_test[idx], \"prediction\": test_pred[idx]}\n",
    "df = pd.DataFrame(dict)\n",
    "pd.set_option('display.width', 1000)\n",
    "print(df)"
   ]
  }
 ],
 "metadata": {
  "kernelspec": {
   "display_name": "Python 3",
   "language": "python",
   "name": "python3"
  },
  "language_info": {
   "codemirror_mode": {
    "name": "ipython",
    "version": 3
   },
   "file_extension": ".py",
   "mimetype": "text/x-python",
   "name": "python",
   "nbconvert_exporter": "python",
   "pygments_lexer": "ipython3",
   "version": "3.6.8"
  }
 },
 "nbformat": 4,
 "nbformat_minor": 2
}
