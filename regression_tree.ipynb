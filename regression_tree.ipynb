{
 "cells": [
  {
   "cell_type": "markdown",
   "metadata": {},
   "source": [
    "# Writing regression tree from scratch\n",
    "### Import libraries"
   ]
  },
  {
   "cell_type": "code",
   "execution_count": 1,
   "metadata": {},
   "outputs": [],
   "source": [
    "import numpy as np\n",
    "import pandas as pd\n",
    "import time"
   ]
  },
  {
   "cell_type": "markdown",
   "metadata": {},
   "source": [
    "### Create the node class\n",
    "Each node contains attribute and threshold and their left and right child"
   ]
  },
  {
   "cell_type": "code",
   "execution_count": 2,
   "metadata": {},
   "outputs": [],
   "source": [
    "class RegressionTreeNode(object):\n",
    "    # Constructor\n",
    "    def __init__(self, att, thr, left, right):  \n",
    "        self.attribute = att\n",
    "        self.threshold = thr\n",
    "        # left and right are either binary classifications or references to \n",
    "        # decision tree nodes\n",
    "        self.left = left     \n",
    "        self.right = right   \n",
    "\n",
    "    def print_tree(self,indent=''):\n",
    "        # If prints the right subtree, corresponding to the condition x[attribute] > threshold\n",
    "        # above the condition stored in the node\n",
    "        if isinstance(self.right, np.float64):\n",
    "            print(indent+'       ','pred=',self.right)\n",
    "        else:\n",
    "            self.right.print_tree(indent+'    ')\n",
    "        \n",
    "        print(indent,'if x['+str(self.attribute)+'] <=',self.threshold)\n",
    "        \n",
    "        if isinstance(self.left, np.float64):\n",
    "            print(indent+'       ','pred=',self.left)\n",
    "        else:\n",
    "            self.left.print_tree(indent+'    ')"
   ]
  },
  {
   "cell_type": "markdown",
   "metadata": {},
   "source": [
    "### Create the class for decision tree classifier\n",
    "Algorithm ID3(x,y):\n",
    "1. If termination condition applies return leaf with the mean value of y \n",
    "2. Determine all the thresholds \n",
    "2. Determine the best attribute and threshold (a,t) with the lowest MSE\n",
    "3. Split the data based on the best attribute and threshold from 2\n",
    "    a. Let (xl, yl) be the training examples for which x(a)<=t\n",
    "    b. Let (xr, yr) be the training examples for which x(a)>t\n",
    "4. Recursivley return decision tree node where attribute = a, threshold = t, leftchild = ID3(xl,yl), rightchild = ID3 (xr,yr)"
   ]
  },
  {
   "cell_type": "code",
   "execution_count": 3,
   "metadata": {},
   "outputs": [],
   "source": [
    "class RegressionTreeClassifier(object):\n",
    "    # constructor\n",
    "    def __init__(self, max_depth=10, min_samples_split=10, accuracy=1):\n",
    "        self.max_depth = max_depth\n",
    "        self.min_samples_split = min_samples_split\n",
    "        self.accuracy = accuracy\n",
    "        \n",
    "    def fit(self, data, labels):\n",
    "        self.root = self._id3(data, labels, depth=0)\n",
    "        \n",
    "    def predict(self, test_data):\n",
    "        pred = np.zeros(len(test_data), dtype=np.float64)\n",
    "        for i in range(len(test_data)):\n",
    "            pred[i] = self._predict(self.root, test_data[i])\n",
    "        return pred\n",
    "        \n",
    "    def _id3(self, data, labels, depth):\n",
    "        # check the base case (termination condition)\n",
    "        mean_val = np.mean(labels)\n",
    "        if depth==self.max_depth or len(data)<= self.min_samples_split or max(\n",
    "                [mean_val, 1-mean_val])>= self.accuracy:\n",
    "            return mean_val\n",
    "        else:\n",
    "            depth += 1\n",
    "            all_thrs = self._get_all_thrs(data)\n",
    "            # get the best attribute and threshold wth the highest gain\n",
    "            best_split_col, best_split_val = self._get_best_split(data, labels, all_thrs)\n",
    "            less, more = self._split_data(data, best_split_col, best_split_val)\n",
    "            #recursivly build the tree\n",
    "            left = self._id3(data[less], labels[less], depth)\n",
    "            right = self._id3(data[more], labels[more], depth)\n",
    "\n",
    "        return RegressionTreeNode(best_split_col, best_split_val, left, right)\n",
    "    \n",
    "    def _get_all_thrs(self, data):\n",
    "        all_thrs = {}\n",
    "        for index in range(data.shape[1]):\n",
    "            all_thrs[index] = []\n",
    "            unique_val = np.unique(data[:,index])\n",
    "            \n",
    "            for idx in range(len(unique_val)):\n",
    "                if idx != 0:\n",
    "                    current_val = unique_val[idx]\n",
    "                    previous_val = unique_val[idx - 1]\n",
    "                    thr = (current_val + previous_val)/2\n",
    "                    all_thrs[index].append(thr)\n",
    "        return all_thrs\n",
    "        \n",
    "    # Find the best cloumn to classify and the best threshold value\n",
    "    def _get_best_split(self, data, labels, all_thrs):\n",
    "        best_mse = 999\n",
    "        for col_index in range(data.shape[1]):\n",
    "            for thr in all_thrs[col_index]:\n",
    "                less, more = self._split_data(data, col_index, thr)\n",
    "                mse = self._calculate_mse(labels[less], labels[more])\n",
    "                \n",
    "                if mse < best_mse:\n",
    "                    best_mse = mse\n",
    "                    best_split_col = col_index\n",
    "                    best_split_val = thr\n",
    "        return best_split_col, best_split_val\n",
    "    \n",
    "    def _split_data(self, data, split_col, thr):\n",
    "        less = data[:,split_col] <= thr\n",
    "        more = data[:, split_col] > thr\n",
    "        return less, more\n",
    "    \n",
    "    def _calculate_mse(self, y_below, y_above):\n",
    "        left = np.mean(y_below)\n",
    "        right = np.mean(y_above)\n",
    "        mse = np.sum((y_below-left)**2) + np.sum((y_above-right)**2)\n",
    "        return mse\n",
    "   \n",
    "    def _predict(self, dt_node, x):\n",
    "        if isinstance(dt_node, np.float64):\n",
    "            return dt_node\n",
    "        if x[dt_node.attribute] <= dt_node.threshold:\n",
    "            return self._predict(dt_node.left, x)\n",
    "        else:\n",
    "            return self._predict(dt_node.right, x)\n",
    "     \n",
    "    def display(self):\n",
    "        print(\"model\")\n",
    "        self.root.print_tree()"
   ]
  },
  {
   "cell_type": "markdown",
   "metadata": {},
   "source": [
    "### Laod and prepare data"
   ]
  },
  {
   "cell_type": "code",
   "execution_count": 4,
   "metadata": {},
   "outputs": [],
   "source": [
    "x = []\n",
    "y = []\n",
    "infile = open(\"gamma_ray.txt\",\"r\")\n",
    "for line in infile:\n",
    "    y.append(int(line[-2:-1] =='g'))\n",
    "    x.append(np.fromstring(line[:-2], dtype=float,sep=','))\n",
    "infile.close()\n",
    "    \n",
    "x = np.array(x).astype(np.float32)\n",
    "y = np.array(y) "
   ]
  },
  {
   "cell_type": "markdown",
   "metadata": {},
   "source": [
    "### Split data into trianing and testing set: 80% for training and 20% for testing"
   ]
  },
  {
   "cell_type": "code",
   "execution_count": 5,
   "metadata": {},
   "outputs": [],
   "source": [
    "ind = np.random.permutation(len(y))\n",
    "split_ind = int(len(y)*0.8)\n",
    "x_train = x[ind[:split_ind]]\n",
    "x_test = x[ind[split_ind:]]\n",
    "y_train = y[ind[:split_ind]]\n",
    "y_test = y[ind[split_ind:]]"
   ]
  },
  {
   "cell_type": "markdown",
   "metadata": {},
   "source": [
    "### Take a toy dataset to run the program with minimum time"
   ]
  },
  {
   "cell_type": "code",
   "execution_count": 6,
   "metadata": {},
   "outputs": [],
   "source": [
    "# Only 5000 data for training and 500 for testing\n",
    "# Run this cell, only if you want to see the reuslt in quick otherwise skip this cell\n",
    "x_train = x_train[:5000]\n",
    "x_test = x_test[:500]\n",
    "y_train = y_train[:5000]\n",
    "y_test = y_test[:500]"
   ]
  },
  {
   "cell_type": "markdown",
   "metadata": {},
   "source": [
    "### Fit / train the model"
   ]
  },
  {
   "cell_type": "code",
   "execution_count": 8,
   "metadata": {},
   "outputs": [
    {
     "name": "stdout",
     "output_type": "stream",
     "text": [
      "Elapsed_time training  13.154929 \n"
     ]
    }
   ],
   "source": [
    "model = RegressionTreeClassifier(max_depth=5)\n",
    "start = time.time()\n",
    "model.fit(x_train, y_train)\n",
    "elapsed_time = time.time()-start\n",
    "print('Elapsed_time training  {0:.6f} '.format(elapsed_time)) "
   ]
  },
  {
   "cell_type": "markdown",
   "metadata": {},
   "source": [
    "### Display the regression tree"
   ]
  },
  {
   "cell_type": "code",
   "execution_count": 9,
   "metadata": {},
   "outputs": [
    {
     "name": "stdout",
     "output_type": "stream",
     "text": [
      "model\n",
      "                        pred= 1.0\n",
      "                 if x[2] <= 4.837650299072266\n",
      "                        pred= 0.026476578411405296\n",
      "             if x[8] <= 34.94029998779297\n",
      "                        pred= 0.14285714285714285\n",
      "                 if x[2] <= 2.44350004196167\n",
      "                        pred= 1.0\n",
      "         if x[9] <= 156.8125\n",
      "                        pred= 0.07777777777777778\n",
      "                 if x[2] <= 2.533249855041504\n",
      "                        pred= 1.0\n",
      "             if x[0] <= 63.6379508972168\n",
      "                        pred= 0.5346534653465347\n",
      "                 if x[1] <= 14.776599884033203\n",
      "                        pred= 0.0784313725490196\n",
      "     if x[0] <= 33.39979934692383\n",
      "                        pred= 0.39919354838709675\n",
      "                 if x[9] <= 171.15174865722656\n",
      "                        pred= 0.6735751295336787\n",
      "             if x[1] <= 10.003049850463867\n",
      "                        pred= 0.10256410256410256\n",
      "                 if x[2] <= 2.345900058746338\n",
      "                        pred= 0.8571428571428571\n",
      "         if x[2] <= 2.333549976348877\n",
      "                        pred= 0.8023952095808383\n",
      "                 if x[0] <= 12.499000549316406\n",
      "                        pred= 0.0\n",
      "             if x[1] <= 6.636650085449219\n",
      "                        pred= 0.09523809523809523\n",
      "                 if x[1] <= 0.3027999997138977\n",
      "                        pred= 0.8235294117647058\n",
      " if x[8] <= 27.813899993896484\n",
      "                pred= 0.0\n",
      "         if x[8] <= 8.780200004577637\n",
      "                        pred= 0.5\n",
      "                 if x[2] <= 4.105199813842773\n",
      "                        pred= 0.0\n",
      "             if x[1] <= 42.43464660644531\n",
      "                        pred= 0.3333333333333333\n",
      "                 if x[4] <= 0.1042499989271164\n",
      "                        pred= 0.875\n",
      "     if x[0] <= 117.83805084228516\n",
      "                        pred= 1.0\n",
      "                 if x[6] <= 95.3511962890625\n",
      "                        pred= 0.13636363636363635\n",
      "             if x[0] <= 70.84504699707031\n",
      "                        pred= 0.5411764705882353\n",
      "                 if x[9] <= 229.04249572753906\n",
      "                        pred= 0.801358234295416\n",
      "         if x[8] <= 14.441850662231445\n",
      "                        pred= 0.66\n",
      "                 if x[4] <= 0.37599998712539673\n",
      "                        pred= 0.9230769230769231\n",
      "             if x[6] <= -65.44364929199219\n",
      "                        pred= 0.18181818181818182\n",
      "                 if x[1] <= 29.047800064086914\n",
      "                        pred= 0.7692307692307693\n"
     ]
    }
   ],
   "source": [
    "model.display()"
   ]
  },
  {
   "cell_type": "markdown",
   "metadata": {},
   "source": [
    "### Training accuracy"
   ]
  },
  {
   "cell_type": "code",
   "execution_count": 10,
   "metadata": {},
   "outputs": [
    {
     "name": "stdout",
     "output_type": "stream",
     "text": [
      "Mean square error test set: 0.11459673767598433\n"
     ]
    }
   ],
   "source": [
    "train_pred = model.predict(x_train)\n",
    "print('Mean square error test set:',np.mean(np.square(train_pred-y_train)))"
   ]
  },
  {
   "cell_type": "markdown",
   "metadata": {},
   "source": [
    "### Testing accuracy"
   ]
  },
  {
   "cell_type": "code",
   "execution_count": 11,
   "metadata": {},
   "outputs": [
    {
     "name": "stdout",
     "output_type": "stream",
     "text": [
      "Elapsed_time testing 0.004986\n",
      "Mean square error test set: 0.14995741361048634\n"
     ]
    }
   ],
   "source": [
    "start = time.time()\n",
    "test_pred = model.predict(x_test)\n",
    "elapsed_time = time.time() - start\n",
    "print('Elapsed_time testing {0:.6f}'.format(elapsed_time))\n",
    "print('Mean square error test set:',np.mean(np.square(test_pred-y_test)))"
   ]
  },
  {
   "cell_type": "markdown",
   "metadata": {},
   "source": [
    "### Display 10 random regression results"
   ]
  },
  {
   "cell_type": "code",
   "execution_count": 13,
   "metadata": {},
   "outputs": [
    {
     "name": "stdout",
     "output_type": "stream",
     "text": [
      "         x[0]       x[1]    x[2]    x[3]    x[4]        x[5]        x[6]       x[7]       x[8]        x[9]  labels  prediction\n",
      "0   30.531099  12.690000  2.4014  0.4246  0.2361  -26.566900  -19.546101   9.588300   1.382300  243.460007       1    0.923077\n",
      "1   20.698700  13.687200  2.4742  0.5671  0.3339   21.969400   16.062599  -3.845300  85.879303  161.453003       1    0.673575\n",
      "2   55.164600  22.375000  3.2629  0.1850  0.0974   -7.993900   39.327900 -14.679100   1.708600  237.662994       1    0.923077\n",
      "3   27.063101   9.889400  2.3233  0.4371  0.2209  -41.164700   17.103701  -6.429500  59.507099   95.794800       1    0.802395\n",
      "4   48.629398  15.583500  3.0432  0.3324  0.1861   35.922600   50.127201  -4.310500  71.176697  140.789993       0    0.534653\n",
      "5   13.123400   9.910200  2.1917  0.8103  0.5370   11.972600    8.239400 -10.211600   9.046000   41.339901       1    0.660000\n",
      "6   33.078800  13.591000  2.7649  0.3729  0.2088   13.207800   27.735701  -7.145900   2.202500  172.076004       1    0.923077\n",
      "7   67.150497  52.268398  2.9472  0.3072  0.1666   64.372498   51.052898 -30.352600  55.164001  234.800995       0    0.026477\n",
      "8   23.857300  21.882601  2.7388  0.2847  0.1432   -1.683300   14.751500  -9.365700  16.404600  132.205994       1    0.801358\n",
      "9  161.452301  71.988998  3.2796  0.2329  0.1511 -172.058197 -126.242798  59.615799  86.624100  347.111298       0    0.026477\n"
     ]
    }
   ],
   "source": [
    "idx = np.random.randint(0, 500, 10)\n",
    "dict = {\"x[0]\": x_test[idx,0], \"x[1]\": x_test[idx,1], \"x[2]\": x_test[idx,2], \"x[3]\": x_test[idx,3], \"x[4]\": x_test[idx,4],\n",
    "        \"x[5]\": x_test[idx,5], \"x[6]\": x_test[idx,6], \"x[7]\": x_test[idx,7], \"x[8]\": x_test[idx,8], \"x[9]\": x_test[idx,9],\n",
    "        \"labels\": y_test[idx], \"prediction\": test_pred[idx]}\n",
    "df = pd.DataFrame(dict)\n",
    "pd.set_option('display.width', 1000)\n",
    "print(df)"
   ]
  }
 ],
 "metadata": {
  "kernelspec": {
   "display_name": "Python 3",
   "language": "python",
   "name": "python3"
  },
  "language_info": {
   "codemirror_mode": {
    "name": "ipython",
    "version": 3
   },
   "file_extension": ".py",
   "mimetype": "text/x-python",
   "name": "python",
   "nbconvert_exporter": "python",
   "pygments_lexer": "ipython3",
   "version": "3.6.8"
  }
 },
 "nbformat": 4,
 "nbformat_minor": 2
}
